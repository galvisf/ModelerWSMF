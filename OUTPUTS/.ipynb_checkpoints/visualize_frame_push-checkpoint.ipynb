{
 "cells": [
  {
   "cell_type": "code",
   "execution_count": 1,
   "metadata": {},
   "outputs": [],
   "source": [
    "from frame_postprocess import *\n",
    "\n",
    "set_plot_formatting()\n",
    "color_specs = ['tab:red','tab:green','tab:orange','tab:purple','tab:olive'] #\n",
    "# color_specs = [(56/255, 95/255, 150/255), (207/255, 89/255, 33/255), (231/255, 184/255, 0/255), (158/255, 184/255, 219/255),\n",
    "#                (128/255, 0/255, 0/255)]"
   ]
  },
  {
   "cell_type": "markdown",
   "metadata": {},
   "source": [
    "#### INPUTS"
   ]
  },
  {
   "cell_type": "markdown",
   "metadata": {},
   "source": [
    "Building geometry and relevant properties"
   ]
  },
  {
   "cell_type": "code",
   "execution_count": 2,
   "metadata": {},
   "outputs": [],
   "source": [
    "bldg_name         = 'MainPlace Mall'\n",
    "cvn = 12\n",
    "\n",
    "result_list = [os.path.join('PUSHOVER', 'Output')]\n",
    "sf = 1.0\n",
    "dt = 0.0050\n",
    "\n",
    "##### Frame direction #####\n",
    "n_stories = 3\n",
    "\n",
    "## Retrieve inputs for plots ##\n",
    "cvn           = 'ASCE41'  # ft-lb\n",
    "a0            = 0.1\n",
    "distribution  = 'Constant'\n",
    "splice        = 0\n",
    "\n",
    "story_heights = np.array([18.67*12,\n",
    "                18.5*12,\n",
    "                (14.5*12+12.75*12)])\n",
    "beam_list   = np.array([1,\n",
    "                        1,\n",
    "                        1]).reshape(-1,1)\n",
    "column_list = np.array([[1, 1],\n",
    "                        [1, 1],\n",
    "                        [1, 1]])\n",
    "bay_widths  = np.array([30*12])\n",
    "n_bays      = len(bay_widths) \n"
   ]
  },
  {
   "cell_type": "code",
   "execution_count": null,
   "metadata": {},
   "outputs": [],
   "source": []
  },
  {
   "cell_type": "markdown",
   "metadata": {},
   "source": [
    "Collect ground motion"
   ]
  },
  {
   "cell_type": "code",
   "execution_count": 3,
   "metadata": {},
   "outputs": [],
   "source": [
    "# gm = {}\n",
    "# gmpath = result_list[0] + '.txt'\n",
    "\n",
    "# gm['acc'] = np.loadtxt(gmpath)\n",
    "# gm['time'] = np.linspace(0,len(gm['acc']),len(gm['acc']))*dt"
   ]
  },
  {
   "cell_type": "code",
   "execution_count": 4,
   "metadata": {},
   "outputs": [],
   "source": [
    "# _ = plt.plot(gm['time'], gm['acc']*sf, linewidth=0.5)\n",
    "# _ = plt.grid(which='both', alpha=0.5)\n",
    "# _ = plt.xlabel('Time [s]')\n",
    "# _ = plt.ylabel('$u_g [g]$')"
   ]
  },
  {
   "cell_type": "markdown",
   "metadata": {},
   "source": [
    "#### COLLECT RESULTS FROM NLRHA"
   ]
  },
  {
   "cell_type": "code",
   "execution_count": 5,
   "metadata": {},
   "outputs": [
    {
     "name": "stdout",
     "output_type": "stream",
     "text": [
      "PUSHOVER\\Output\n"
     ]
    }
   ],
   "source": [
    "story_response = {}\n",
    "pz_response = {}\n",
    "column_response = {}\n",
    "frac_simulated = {}\n",
    "FI_simulated = {}\n",
    "beam_plas_rot = {}\n",
    "\n",
    "for model_i, results_folder in enumerate(result_list):\n",
    "    \n",
    "    print(results_folder)\n",
    "    \n",
    "    story_response[results_folder]  = get_story_response(results_folder, beam_list, ['disp'])\n",
    "#     pz_response[results_folder]     = get_pz_response(results_folder, beam_list, column_list, ['pz_rot'])\n",
    "#     column_response[results_folder] = get_column_response(results_folder, beam_list, column_list, ['hinge_bot','hinge_top'])\n",
    "#     frac_simulated[results_folder]  = get_beam_response(results_folder, beam_list, ['frac_LB','frac_LT','frac_RB','frac_RT'])\n",
    "#     FI_simulated[results_folder]    = get_beam_response(results_folder, beam_list, ['FI_LB','FI_LT','FI_RB','FI_RT'])\n",
    "#     beam_plas_rot[results_folder]   = get_beam_response(results_folder, beam_list, ['hinge_left','hinge_right'])\n",
    "\n",
    "    # Compute disp from drift\n",
    "#     disp = story_response[results_folder]['drift'][0]*story_heights[0]\n",
    "#     disp_prev = disp\n",
    "#     for i in range(len(story_heights)-1):\n",
    "#         ddisp = story_response[results_folder]['drift'][i+1]*story_heights[i+1]\n",
    "#         disp = np.vstack((disp, disp_prev + ddisp))\n",
    "#         disp_prev = disp_prev + ddisp\n",
    "#     story_response[results_folder]['disp'] = disp\n",
    "        \n",
    "    # Collect response at a given time #\n",
    "    ### Time (index) to collect response ###\n",
    "#     res_type = 'at_t'\n",
    "#     t = -1\n",
    "    res_type='all_t'\n",
    "\n",
    "    pz_response[results_folder]     = get_pz_response(results_folder, beam_list, column_list, ['all_disp', 'pz_rot'], res_type='all_t')\n",
    "    \n",
    "    if cvn != 'ASCE41':\n",
    "    #     beam_plas_rot   = get_beam_response(results_folder, beam_list, ['hinge_left','hinge_right'])\n",
    "        column_response[results_folder] = get_column_response(results_folder, beam_list, column_list, ['hinge_bot','hinge_top'], res_type)\n",
    "        beam_plas_rot[results_folder]   = get_beam_response(results_folder, beam_list, ['hinge_left','hinge_right'], res_type)\n",
    "        frac_simulated[results_folder]  = get_beam_response(results_folder, beam_list, ['frac_LB','frac_LT','frac_RB','frac_RT'], res_type)\n",
    "        FI_simulated[results_folder]    = get_beam_response(results_folder, beam_list, ['FI_LB','FI_LT','FI_RB','FI_RT'], res_type)\n",
    "    #         fiber_plas_rot   = get_beam_response(results_folder, beam_list, ['def_left','def_right'])\n",
    "    else:\n",
    "        beam_plas_rot[results_folder]   = get_beam_response(results_folder, beam_list, ['hinge_left','hinge_right'], res_type)\n",
    "        column_response[results_folder] = get_column_response(results_folder, beam_list, column_list, ['hinge_bot','hinge_top'], res_type)\n",
    "   \n",
    "    "
   ]
  },
  {
   "cell_type": "markdown",
   "metadata": {},
   "source": [
    "#### PLOT COLLAPSE MECHANISM"
   ]
  },
  {
   "cell_type": "code",
   "execution_count": 6,
   "metadata": {},
   "outputs": [
    {
     "name": "stdout",
     "output_type": "stream",
     "text": [
      "PUSHOVER\\Output\n"
     ]
    },
    {
     "data": {
      "image/png": "[encoded data removed]",
      "text/plain": [
       "<Figure size 1008x576 with 1 Axes>"
      ]
     },
     "metadata": {
      "needs_background": "light"
     },
     "output_type": "display_data"
    }
   ],
   "source": [
    "marker_size = 100 # size marker for fractures\n",
    "\n",
    "# fig, ax_list = plt.subplots(2,int(len(cvn_list)/2), figsize=(8,8))  \n",
    "fig, ax = plt.subplots(1,len(result_list), figsize=(14,8))\n",
    "\n",
    "# element coordinates\n",
    "plot_scale = 7\n",
    "n_stories, n_bays, columns, beams, joints_x, joints_y = get_coordinates(beam_list, column_list, bay_widths, story_heights)\n",
    "edp = np.zeros([n_stories, 1])\n",
    "t = -1\n",
    "\n",
    "# Buildings per simulation\n",
    "for model_i, results_folder in enumerate(result_list):\n",
    "    \n",
    "    # results folder name\n",
    "    edp = pz_response[results_folder]['all_disp'] #story_response[results_folder]['disp']\n",
    "    \n",
    "    # Adjust EDP if there are beams extending two bays\n",
    "    if edp.ndim == 3:\n",
    "        edp = edp[:, :, t]\n",
    "        \n",
    "    n_floors, n_piers = edp.shape\n",
    "    n_stories = n_floors - 1\n",
    "    n_bays = n_piers - 1\n",
    "    for i_story in range(n_stories):\n",
    "        for i_bay in range(n_bays):\n",
    "            if (beam_list[i_story, min(i_bay + 1, n_bays - 1)] == 0) and \\\n",
    "                    (column_list[i_story, min(i_bay + 1, n_bays)] == 0) and \\\n",
    "                    (column_list[min(i_story + 1, n_stories - 1), min(i_bay + 1, n_bays)] == 0):\n",
    "                # for double bay beams\n",
    "#                 print(edp[i_story+1, i_bay + 2])\n",
    "                edp[i_story+1, min(i_bay + 1, n_bays)] = edp[i_story+1, i_bay+2] \n",
    "    \n",
    "    print(results_folder)\n",
    "    plot_building_at_t(t, edp, columns, beams, plot_scale, column_list, beam_list, ax, x_gap=500)    \n",
    "    \n",
    "    # Plot building response shape\n",
    "    if cvn == 'ASCE41':\n",
    "        plot_beam_response_bins_edp(ax, t, edp, joints_x, joints_y, np.abs(beam_plas_rot[results_folder]['hinge_left']), \n",
    "                                    np.abs(beam_plas_rot[results_folder]['hinge_right']), labelText='$\\\\theta_p$', plot_scale=plot_scale,\n",
    "                               max_marker_size=marker_size, bins=np.array([0, 0.0015, 0.002, 0.016]), edgecolor=color_specs[model_i], \n",
    "                                facecolors=color_specs[model_i], addLegend=True)\n",
    "        plot_column_response_bins_edp(ax, t, edp, joints_x, joints_y, np.abs(column_response[results_folder]['hinge_bot']), \n",
    "                                np.abs(column_response[results_folder]['hinge_top']), labelText='$\\\\theta_p$', plot_scale=plot_scale,\n",
    "                               max_marker_size=marker_size, bins=np.array([0, 0.0025, 0.01, 0.01]), edgecolor='grey', \n",
    "                                facecolors='grey', addLegend=False)\n",
    "        plot_column_response_bins_edp(ax, t, edp, joints_x, joints_y, np.max(np.abs(pz_response[results_folder]['pz_rot']),axis=2),\n",
    "                              np.zeros(column_list.shape), d_y=0, max_value=1, \n",
    "                              max_marker_size=marker_size, plot_scale=plot_scale, \n",
    "                              labelText='$\\\\theta_p$', bins=np.array([0, 0.003, 0.01, 0.02]), addLegend=False)\n",
    "    else:\n",
    "    #         plot_beam_response_bins_edp(ax, t, edp, joints_x, joints_y, FI_simulated['FI_LB'], FI_simulated['FI_RB'], \n",
    "    #                                     plot_scale=plot_scale, max_marker_size=marker_size)\n",
    "        plot_fractures_edp(ax, t, edp, joints_x, joints_y, frac_simulated[results_folder], plot_scale=plot_scale, marker_size=marker_size,\n",
    "                          one_fracture_color=color_specs[model_i], both_fractures_color='k')\n",
    "        plot_beam_response_bins_edp(ax, t, edp, joints_x, joints_y, np.abs(beam_plas_rot[results_folder]['hinge_left']), \n",
    "                                    np.abs(beam_plas_rot[results_folder]['hinge_right']), labelText='$\\\\theta_p$', plot_scale=plot_scale,\n",
    "                               max_marker_size=marker_size, bins=np.array([0, 0.0025, 0.01, 0.02]), edgecolor='grey', \n",
    "                                facecolors='grey', addLegend=False)\n",
    "        plot_column_response_bins_edp(ax, t, edp, joints_x, joints_y, np.abs(column_response[results_folder]['hinge_bot']), \n",
    "                                np.abs(column_response[results_folder]['hinge_top']), labelText='$\\\\theta_p$', plot_scale=plot_scale,\n",
    "                               max_marker_size=marker_size, bins=np.array([0, 0.0025, 0.01, 0.02]), edgecolor='grey', \n",
    "                                facecolors='grey', addLegend=False)\n",
    "        plot_column_response_bins_edp(ax, t, edp, joints_x, joints_y, np.max(np.abs(pz_response[results_folder]['pz_rot']),axis=2),\n",
    "                              np.zeros(column_list.shape), d_y=0, max_value=1, \n",
    "                              max_marker_size=marker_size, plot_scale=plot_scale, \n",
    "                              labelText='$\\\\theta_p$', bins=np.array([0, 0.003, 0.01, 0.02]), addLegend=False)\n",
    "\n",
    "plt.tight_layout()\n",
    "\n"
   ]
  },
  {
   "cell_type": "markdown",
   "metadata": {},
   "source": [
    "#### DRIFT PROFILE"
   ]
  },
  {
   "cell_type": "code",
   "execution_count": 7,
   "metadata": {},
   "outputs": [
    {
     "data": {
      "text/plain": [
       "array([[0.01569363],\n",
       "       [0.0247359 ],\n",
       "       [0.03841651]])"
      ]
     },
     "execution_count": 7,
     "metadata": {},
     "output_type": "execute_result"
    }
   ],
   "source": [
    "disp_max = np.max(story_response[results_folder]['disp'],1)\n",
    "drift = np.divide(disp_max, story_heights).reshape(-1,1)\n",
    "drift"
   ]
  },
  {
   "cell_type": "code",
   "execution_count": 8,
   "metadata": {},
   "outputs": [
    {
     "name": "stdout",
     "output_type": "stream",
     "text": [
      "total time = 3.874299637626348s\n"
     ]
    },
    {
     "data": {
      "image/png": "[encoded data removed]",
      "text/plain": [
       "<Figure size 432x576 with 1 Axes>"
      ]
     },
     "metadata": {
      "needs_background": "light"
     },
     "output_type": "display_data"
    }
   ],
   "source": [
    "x_ticks = np.array([0, 2.0, 4.0, 6.0])\n",
    "\n",
    "# Peak drift profile\n",
    "fig, ax = plt.subplots(1,1, figsize=(6,8)) \n",
    "\n",
    "legend_text = []\n",
    "for model_i, results_folder in enumerate(result_list):\n",
    "    \n",
    "    print('total time = ' + str(pz_response[results_folder]['time'][-1]) + 's')\n",
    "    \n",
    "    plot_story_response(ax, drift, story_heights, bay_widths, \n",
    "                        color_name=color_specs[model_i], x_ticks=x_ticks)\n",
    "    \n",
    "\n",
    "    legend_text.append(results_folder)\n",
    "    \n",
    "# _ = ax.legend(legend_text)#,bbox_to_anchor=(1.05, 1), loc='best')"
   ]
  },
  {
   "cell_type": "code",
   "execution_count": 9,
   "metadata": {},
   "outputs": [
    {
     "name": "stdout",
     "output_type": "stream",
     "text": [
      "\n",
      "BOTTOM HINGE ROTATION\n"
     ]
    },
    {
     "data": {
      "text/plain": [
       "array([[0.        , 0.        ],\n",
       "       [0.00032715, 0.00037225],\n",
       "       [0.00081136, 0.0006801 ]])"
      ]
     },
     "execution_count": 9,
     "metadata": {},
     "output_type": "execute_result"
    },
    {
     "name": "stdout",
     "output_type": "stream",
     "text": [
      "\n",
      "TOP HINGE ROTATION\n"
     ]
    },
    {
     "data": {
      "text/plain": [
       "array([[0.00054653, 0.00057122],\n",
       "       [0.00027446, 0.000302  ],\n",
       "       [0.00023497, 0.00018119]])"
      ]
     },
     "execution_count": 9,
     "metadata": {},
     "output_type": "execute_result"
    },
    {
     "name": "stdout",
     "output_type": "stream",
     "text": [
      "\n",
      "LEFT HINGE ROTATION\n"
     ]
    },
    {
     "data": {
      "text/plain": [
       "array([[0.0003334 ],\n",
       "       [0.00085951],\n",
       "       [0.01452695]])"
      ]
     },
     "execution_count": 9,
     "metadata": {},
     "output_type": "execute_result"
    },
    {
     "name": "stdout",
     "output_type": "stream",
     "text": [
      "\n",
      "RIGHT HINGE ROTATION\n"
     ]
    },
    {
     "data": {
      "text/plain": [
       "array([[0.00033906],\n",
       "       [0.00228679],\n",
       "       [0.03466146]])"
      ]
     },
     "execution_count": 9,
     "metadata": {},
     "output_type": "execute_result"
    }
   ],
   "source": [
    "print('\\nBOTTOM HINGE ROTATION')\n",
    "np.max(np.abs(column_response[results_folder]['hinge_bot']), axis=2)\n",
    "print('\\nTOP HINGE ROTATION')\n",
    "np.max(np.abs(column_response[results_folder]['hinge_top']), axis=2)\n",
    "\n",
    "print('\\nLEFT HINGE ROTATION')\n",
    "np.max(np.abs(beam_plas_rot[results_folder]['hinge_left']), axis=2)\n",
    "print('\\nRIGHT HINGE ROTATION')\n",
    "np.max(np.abs(beam_plas_rot[results_folder]['hinge_right']), axis=2)"
   ]
  },
  {
   "cell_type": "code",
   "execution_count": null,
   "metadata": {},
   "outputs": [],
   "source": []
  }
 ],
 "metadata": {
  "kernelspec": {
   "display_name": "Python 3",
   "language": "python",
   "name": "python3"
  },
  "language_info": {
   "codemirror_mode": {
    "name": "ipython",
    "version": 3
   },
   "file_extension": ".py",
   "mimetype": "text/x-python",
   "name": "python",
   "nbconvert_exporter": "python",
   "pygments_lexer": "ipython3",
   "version": "3.8.8"
  }
 },
 "nbformat": 4,
 "nbformat_minor": 2
}
